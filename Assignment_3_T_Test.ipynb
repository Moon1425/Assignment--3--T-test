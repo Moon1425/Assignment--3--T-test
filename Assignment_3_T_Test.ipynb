{
  "nbformat": 4,
  "nbformat_minor": 0,
  "metadata": {
    "colab": {
      "name": "Assignment #3 T-Test.ipynb",
      "provenance": [],
      "collapsed_sections": []
    },
    "kernelspec": {
      "name": "python3",
      "display_name": "Python 3"
    },
    "language_info": {
      "name": "python"
    }
  },
  "cells": [
    {
      "cell_type": "markdown",
      "metadata": {
        "id": "OCnskiUIcXHG"
      },
      "source": [
        "###IMPORTING DATASET"
      ]
    },
    {
      "cell_type": "code",
      "metadata": {
        "id": "tuj71Rn7btE-"
      },
      "source": [
        "import pandas as pd\n",
        "from scipy.stats import ttest_ind\n",
        "from numpy.random import seed\n",
        "from numpy.random import randn\n",
        "import scipy.stats as stats\n",
        "from scipy.stats import shapiro\n",
        "from matplotlib import pyplot\n",
        "diabetes = pd.read_csv('https://raw.githubusercontent.com/hantswilliams/AHI_DataSci_507/main/Datasets/Diabetes/DB1_Diabetes/diabetic_data.csv')"
      ],
      "execution_count": 8,
      "outputs": []
    },
    {
      "cell_type": "markdown",
      "metadata": {
        "id": "FtSEWQAScqVW"
      },
      "source": [
        "##LISTS OF VARIABLES IN DATASET"
      ]
    },
    {
      "cell_type": "code",
      "metadata": {
        "colab": {
          "base_uri": "https://localhost:8080/"
        },
        "id": "VhGoA3kzcvCS",
        "outputId": "fd607c72-d03c-476e-9813-fedc1c5b89b5"
      },
      "source": [
        "list(diabetes)"
      ],
      "execution_count": 9,
      "outputs": [
        {
          "output_type": "execute_result",
          "data": {
            "text/plain": [
              "['encounter_id',\n",
              " 'patient_nbr',\n",
              " 'race',\n",
              " 'gender',\n",
              " 'age',\n",
              " 'weight',\n",
              " 'admission_type_id',\n",
              " 'discharge_disposition_id',\n",
              " 'admission_source_id',\n",
              " 'time_in_hospital',\n",
              " 'payer_code',\n",
              " 'medical_specialty',\n",
              " 'num_lab_procedures',\n",
              " 'num_procedures',\n",
              " 'num_medications',\n",
              " 'number_outpatient',\n",
              " 'number_emergency',\n",
              " 'number_inpatient',\n",
              " 'diag_1',\n",
              " 'diag_2',\n",
              " 'diag_3',\n",
              " 'number_diagnoses',\n",
              " 'max_glu_serum',\n",
              " 'A1Cresult',\n",
              " 'metformin',\n",
              " 'repaglinide',\n",
              " 'nateglinide',\n",
              " 'chlorpropamide',\n",
              " 'glimepiride',\n",
              " 'acetohexamide',\n",
              " 'glipizide',\n",
              " 'glyburide',\n",
              " 'tolbutamide',\n",
              " 'pioglitazone',\n",
              " 'rosiglitazone',\n",
              " 'acarbose',\n",
              " 'miglitol',\n",
              " 'troglitazone',\n",
              " 'tolazamide',\n",
              " 'examide',\n",
              " 'citoglipton',\n",
              " 'insulin',\n",
              " 'glyburide-metformin',\n",
              " 'glipizide-metformin',\n",
              " 'glimepiride-pioglitazone',\n",
              " 'metformin-rosiglitazone',\n",
              " 'metformin-pioglitazone',\n",
              " 'change',\n",
              " 'diabetesMed',\n",
              " 'readmitted']"
            ]
          },
          "metadata": {},
          "execution_count": 9
        }
      ]
    },
    {
      "cell_type": "markdown",
      "metadata": {
        "id": "mNnlY3-Ac32k"
      },
      "source": [
        "T-TEST....QUESTION #1: IS THERE A DIFFERENCE BETWEEN SEX(M:F) AND THE NUMBER OF DAYS IN HOSPITAL?"
      ]
    },
    {
      "cell_type": "code",
      "metadata": {
        "id": "MOLpCMXIc3KI"
      },
      "source": [
        "Female = diabetes[diabetes['gender']== 'Female']\n",
        "Male = diabetes[diabetes['gender'] == 'Male']"
      ],
      "execution_count": 10,
      "outputs": []
    },
    {
      "cell_type": "code",
      "metadata": {
        "colab": {
          "base_uri": "https://localhost:8080/"
        },
        "id": "Rnxrv7Lmd_mc",
        "outputId": "0c59bd6d-4d80-46f7-dacd-dc4aa0a2c309"
      },
      "source": [
        "ttest_ind(Female['time_in_hospital'], Male['time_in_hospital'])"
      ],
      "execution_count": 11,
      "outputs": [
        {
          "output_type": "execute_result",
          "data": {
            "text/plain": [
              "Ttest_indResult(statistic=9.542637042242887, pvalue=1.4217299655114968e-21)"
            ]
          },
          "metadata": {},
          "execution_count": 11
        }
      ]
    },
    {
      "cell_type": "markdown",
      "metadata": {
        "id": "X9GcZcIof43C"
      },
      "source": [
        "Human interpretation of results = the pvalue is <.05 which shows there is a significant difference between sex (M:F) and number of days in hospital."
      ]
    },
    {
      "cell_type": "markdown",
      "metadata": {
        "id": "pyWzZDoegYYQ"
      },
      "source": [
        "T-TEST...QUESTION #2: IS THERE A DIFFERENCE BETWEEN RACE (CAUCASIAN AND AFRICAN AMERICAN) AND THE NUMBER OF DAYS IN HOSPITAL?"
      ]
    },
    {
      "cell_type": "code",
      "metadata": {
        "id": "w0u9txVhhBD-"
      },
      "source": [
        "Caucasian = diabetes[diabetes['race'] == 'Caucasian'] \n",
        "African_American = diabetes[diabetes['race'] == 'AfricanAmerican']"
      ],
      "execution_count": 12,
      "outputs": []
    },
    {
      "cell_type": "code",
      "metadata": {
        "colab": {
          "base_uri": "https://localhost:8080/"
        },
        "id": "U0OWnZ9lkeqF",
        "outputId": "255cef90-e131-43f1-a9f1-55777f3e13ad"
      },
      "source": [
        "ttest_ind(Caucasian['time_in_hospital'], African_American ['time_in_hospital'])"
      ],
      "execution_count": 13,
      "outputs": [
        {
          "output_type": "execute_result",
          "data": {
            "text/plain": [
              "Ttest_indResult(statistic=-5.0610017032095325, pvalue=4.178330085585203e-07)"
            ]
          },
          "metadata": {},
          "execution_count": 13
        }
      ]
    },
    {
      "cell_type": "markdown",
      "metadata": {
        "id": "LIvKhPrMkn5_"
      },
      "source": [
        "Human Interpretation of results = SINCE THE PVALUE IS <.05, THERE IS A SIGNIFICANT DIFFERENCE BETWEEN RACE (CAUCASIAN AND AFRICAN AMERICAN) AND THE NUMBER OF DAYS IN HOSPITAL."
      ]
    },
    {
      "cell_type": "code",
      "metadata": {
        "id": "iZyxa9Drk4sy"
      },
      "source": [
        ""
      ],
      "execution_count": null,
      "outputs": []
    },
    {
      "cell_type": "markdown",
      "metadata": {
        "id": "t3-eLkXMlMsR"
      },
      "source": [
        "T-TEST...QUESTION #3: IS THERE A DIFFERENCE BETWEEN RACE (ASIAN AND AFRICAN AMERICAN) AND THE NUMBER OF LAB PROCEDURES PERFORMED? "
      ]
    },
    {
      "cell_type": "code",
      "metadata": {
        "id": "FAP49DKhlh3g"
      },
      "source": [
        "Asian = diabetes[diabetes['race']== 'Asian']\n",
        "African_American = diabetes[diabetes['race']== 'AfricanAmerican']"
      ],
      "execution_count": 25,
      "outputs": []
    },
    {
      "cell_type": "code",
      "metadata": {
        "colab": {
          "base_uri": "https://localhost:8080/"
        },
        "id": "xaIieOiYl9TC",
        "outputId": "7abf119d-809c-4622-83e4-edc40224067d"
      },
      "source": [
        "ttest_ind(Asian['num_lab_procedures'], African_American ['num_lab_procedures'])"
      ],
      "execution_count": 26,
      "outputs": [
        {
          "output_type": "execute_result",
          "data": {
            "text/plain": [
              "Ttest_indResult(statistic=-3.9788715315360292, pvalue=6.948907528800307e-05)"
            ]
          },
          "metadata": {},
          "execution_count": 26
        }
      ]
    },
    {
      "cell_type": "markdown",
      "metadata": {
        "id": "-wEgPVRRnDcZ"
      },
      "source": [
        "Human Interpretation of results = Since the pvalue is <.05, there is a significant difference between race (Asian and African American) and the number of lab procedures performed."
      ]
    }
  ]
}